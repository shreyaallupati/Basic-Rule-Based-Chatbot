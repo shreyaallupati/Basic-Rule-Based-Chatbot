{
  "nbformat": 4,
  "nbformat_minor": 0,
  "metadata": {
    "colab": {
      "provenance": []
    },
    "kernelspec": {
      "name": "python3",
      "display_name": "Python 3"
    },
    "language_info": {
      "name": "python"
    }
  },
  "cells": [
    {
      "cell_type": "code",
      "source": [
        "import re\n",
        "import random\n",
        "\n",
        "class RuleBot:\n",
        "    ### potential negative response\n",
        "    negative_responses = (\"no\", \"nope\", \"nah\", \"naw\", \"not a chance\", \"sorry\")\n",
        "    ### exit conversation keywords\n",
        "    exit_commands = (\"quit\", \"pause\", \"exit\", \"goodbye\", \"bye\", \"later\")\n",
        "    ### random starter questions\n",
        "    random_questions = (\n",
        "        \"Why are you here?\",\n",
        "        \"Are there many humans like you?\",\n",
        "        \"What do you consume for sustenance?\",\n",
        "        \"Is there intelligent life on this planet?\",\n",
        "        \"Does Earth have a leader?\",\n",
        "        \"What planets have you visited?\",\n",
        "        \"What technology do we have on this planet?\"\n",
        "    )\n",
        "\n",
        "    def __init__(self):\n",
        "        self.alienbabble = {\n",
        "            'describe_planet_intent': r'.*\\s*your planet.*',\n",
        "            'answer_why_intent': r'why\\sare.*'\n",
        "        }\n",
        "\n",
        "    def greet(self):\n",
        "        self.name = input(\"What is your name?\\n\")\n",
        "        will_help = input(\n",
        "            f\"Hi {self.name}, I am Rule-Bot. Will you help me learn about your planet?\\n\")\n",
        "        if will_help.lower() in self.negative_responses:\n",
        "            print(\"Ok, have a nice Earth day!\")\n",
        "            return\n",
        "        self.chat()\n",
        "\n",
        "    def make_exit(self, reply):\n",
        "        for command in self.exit_commands:\n",
        "            if reply == command:\n",
        "                print(\"Okay, have a nice Earth day!\")\n",
        "                return True\n",
        "        return False\n",
        "\n",
        "    def chat(self):\n",
        "        reply = input(random.choice(self.random_questions)).lower()\n",
        "        while not self.make_exit(reply):\n",
        "            reply = input(self.match_reply(reply))\n",
        "\n",
        "    def match_reply(self, reply):\n",
        "        for key, value in self.alienbabble.items():\n",
        "            intent = key\n",
        "            regex_pattern = value\n",
        "            found_match = re.match(regex_pattern, reply)\n",
        "            if found_match and intent == 'describe_planet_intent':\n",
        "                return self.describe_planet_intent()\n",
        "            elif found_match and intent == 'answer_why_intent':\n",
        "                return self.answer_why_intent()\n",
        "        return self.no_match_intent()\n",
        "\n",
        "    def describe_planet_intent(self):\n",
        "        responses = (\n",
        "            \"My planet is a utopia of diverse organisms and species.\\n\",\n",
        "            \"I am from Opidipus, the capital of the Wayward Galaxies.\\n\"\n",
        "        )\n",
        "        return random.choice(responses)\n",
        "\n",
        "    def answer_why_intent(self):\n",
        "        responses = (\n",
        "            \"I come in peace\\n\",\n",
        "            \"I am here to collect data on your planet and its inhabitants\\n\",\n",
        "            \"I heard the coffee is good\\n\"\n",
        "        )\n",
        "        return random.choice(responses)\n",
        "\n",
        "    def no_match_intent(self):\n",
        "        responses = (\n",
        "            \"Please tell me more.\\n\",\n",
        "            \"Tell me more.\\n\",\n",
        "            \"Why do you say that?\\n\",\n",
        "            \"I see. Can you elaborate?\\n\",\n",
        "            \"Interesting. Can you tell me more?\\n\",\n",
        "            \"I see. How do you think?\\n\",\n",
        "            \"Why?\\n\",\n",
        "            \"How do you think I feel when you say that?\\n\"\n",
        "        )\n",
        "        return random.choice(responses)\n",
        "\n",
        "AlienBot = RuleBot()\n",
        "AlienBot.greet()\n"
      ],
      "metadata": {
        "colab": {
          "base_uri": "https://localhost:8080/"
        },
        "id": "42WOhLIvmrUs",
        "outputId": "8038acba-5690-429d-9f64-7c31c68a0b37"
      },
      "execution_count": 1,
      "outputs": [
        {
          "output_type": "stream",
          "name": "stdout",
          "text": [
            "What is your name?\n",
            "shreya\n",
            "Hi shreya, I am Rule-Bot. Will you help me learn about your planet?\n",
            "yes\n",
            "What do you consume for sustenance?food\n",
            "Tell me more.\n",
            "planet earth\n",
            "Why do you say that?\n",
            "no\n",
            "I see. How do you think?\n",
            "nah\n",
            "Why?\n",
            "nah\n",
            "Please tell me more.\n",
            "quit\n",
            "Okay, have a nice Earth day!\n"
          ]
        }
      ]
    },
    {
      "cell_type": "code",
      "source": [],
      "metadata": {
        "id": "2Y5YQ406bnkR"
      },
      "execution_count": null,
      "outputs": []
    }
  ]
}